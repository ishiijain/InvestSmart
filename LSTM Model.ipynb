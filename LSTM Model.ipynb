{
 "cells": [
  {
   "cell_type": "code",
   "execution_count": 1,
   "id": "c5c353b7-9fff-4e41-9216-27b63c8b90fa",
   "metadata": {},
   "outputs": [],
   "source": [
    "# pip install pandas_datareader\n",
    "import numpy as np\n",
    "import pandas as pd\n",
    "import matplotlib.pyplot as plt\n",
    "import pandas_datareader as data\n",
    "from sklearn.metrics import accuracy_score"
   ]
  },
  {
   "cell_type": "code",
   "execution_count": 2,
   "id": "c7d04f42-ec65-4911-8d38-50c2a24eb4fd",
   "metadata": {},
   "outputs": [
    {
     "data": {
      "text/html": [
       "<div>\n",
       "<style scoped>\n",
       "    .dataframe tbody tr th:only-of-type {\n",
       "        vertical-align: middle;\n",
       "    }\n",
       "\n",
       "    .dataframe tbody tr th {\n",
       "        vertical-align: top;\n",
       "    }\n",
       "\n",
       "    .dataframe thead th {\n",
       "        text-align: right;\n",
       "    }\n",
       "</style>\n",
       "<table border=\"1\" class=\"dataframe\">\n",
       "  <thead>\n",
       "    <tr style=\"text-align: right;\">\n",
       "      <th></th>\n",
       "      <th>High</th>\n",
       "      <th>Low</th>\n",
       "      <th>Open</th>\n",
       "      <th>Close</th>\n",
       "      <th>Volume</th>\n",
       "      <th>Adj Close</th>\n",
       "    </tr>\n",
       "    <tr>\n",
       "      <th>Date</th>\n",
       "      <th></th>\n",
       "      <th></th>\n",
       "      <th></th>\n",
       "      <th></th>\n",
       "      <th></th>\n",
       "      <th></th>\n",
       "    </tr>\n",
       "  </thead>\n",
       "  <tbody>\n",
       "    <tr>\n",
       "      <th>2010-01-04</th>\n",
       "      <td>6215.000000</td>\n",
       "      <td>6032.0</td>\n",
       "      <td>6081.000000</td>\n",
       "      <td>6142.950195</td>\n",
       "      <td>18735.0</td>\n",
       "      <td>5990.333984</td>\n",
       "    </tr>\n",
       "    <tr>\n",
       "      <th>2010-01-05</th>\n",
       "      <td>6269.000000</td>\n",
       "      <td>6150.0</td>\n",
       "      <td>6200.000000</td>\n",
       "      <td>6160.600098</td>\n",
       "      <td>17947.0</td>\n",
       "      <td>6007.544434</td>\n",
       "    </tr>\n",
       "    <tr>\n",
       "      <th>2010-01-06</th>\n",
       "      <td>6198.000000</td>\n",
       "      <td>6055.0</td>\n",
       "      <td>6180.000000</td>\n",
       "      <td>6090.399902</td>\n",
       "      <td>10735.0</td>\n",
       "      <td>5939.090332</td>\n",
       "    </tr>\n",
       "    <tr>\n",
       "      <th>2010-01-07</th>\n",
       "      <td>6371.000000</td>\n",
       "      <td>6151.0</td>\n",
       "      <td>6249.899902</td>\n",
       "      <td>6216.200195</td>\n",
       "      <td>42206.0</td>\n",
       "      <td>6061.764160</td>\n",
       "    </tr>\n",
       "    <tr>\n",
       "      <th>2010-01-08</th>\n",
       "      <td>6294.399902</td>\n",
       "      <td>6150.0</td>\n",
       "      <td>6243.299805</td>\n",
       "      <td>6166.850098</td>\n",
       "      <td>11155.0</td>\n",
       "      <td>6013.641602</td>\n",
       "    </tr>\n",
       "  </tbody>\n",
       "</table>\n",
       "</div>"
      ],
      "text/plain": [
       "                   High     Low         Open        Close   Volume  \\\n",
       "Date                                                                 \n",
       "2010-01-04  6215.000000  6032.0  6081.000000  6142.950195  18735.0   \n",
       "2010-01-05  6269.000000  6150.0  6200.000000  6160.600098  17947.0   \n",
       "2010-01-06  6198.000000  6055.0  6180.000000  6090.399902  10735.0   \n",
       "2010-01-07  6371.000000  6151.0  6249.899902  6216.200195  42206.0   \n",
       "2010-01-08  6294.399902  6150.0  6243.299805  6166.850098  11155.0   \n",
       "\n",
       "              Adj Close  \n",
       "Date                     \n",
       "2010-01-04  5990.333984  \n",
       "2010-01-05  6007.544434  \n",
       "2010-01-06  5939.090332  \n",
       "2010-01-07  6061.764160  \n",
       "2010-01-08  6013.641602  "
      ]
     },
     "execution_count": 2,
     "metadata": {},
     "output_type": "execute_result"
    }
   ],
   "source": [
    "start='2010-01-01'\n",
    "end='2021-12-31'\n",
    "\n",
    "df=data.DataReader('MRF.NS','yahoo',start,end)\n",
    "df.head()"
   ]
  },
  {
   "cell_type": "code",
   "execution_count": 3,
   "id": "3daa3a4a-8de9-41b0-bb10-e6e05d0707bf",
   "metadata": {},
   "outputs": [
    {
     "data": {
      "text/html": [
       "<div>\n",
       "<style scoped>\n",
       "    .dataframe tbody tr th:only-of-type {\n",
       "        vertical-align: middle;\n",
       "    }\n",
       "\n",
       "    .dataframe tbody tr th {\n",
       "        vertical-align: top;\n",
       "    }\n",
       "\n",
       "    .dataframe thead th {\n",
       "        text-align: right;\n",
       "    }\n",
       "</style>\n",
       "<table border=\"1\" class=\"dataframe\">\n",
       "  <thead>\n",
       "    <tr style=\"text-align: right;\">\n",
       "      <th></th>\n",
       "      <th>High</th>\n",
       "      <th>Low</th>\n",
       "      <th>Open</th>\n",
       "      <th>Close</th>\n",
       "      <th>Volume</th>\n",
       "      <th>Adj Close</th>\n",
       "    </tr>\n",
       "    <tr>\n",
       "      <th>Date</th>\n",
       "      <th></th>\n",
       "      <th></th>\n",
       "      <th></th>\n",
       "      <th></th>\n",
       "      <th></th>\n",
       "      <th></th>\n",
       "    </tr>\n",
       "  </thead>\n",
       "  <tbody>\n",
       "    <tr>\n",
       "      <th>2021-12-27</th>\n",
       "      <td>70689.453125</td>\n",
       "      <td>69010.000000</td>\n",
       "      <td>70089.000000</td>\n",
       "      <td>70526.203125</td>\n",
       "      <td>7843.0</td>\n",
       "      <td>70523.007812</td>\n",
       "    </tr>\n",
       "    <tr>\n",
       "      <th>2021-12-28</th>\n",
       "      <td>71999.000000</td>\n",
       "      <td>70540.000000</td>\n",
       "      <td>70540.000000</td>\n",
       "      <td>71617.703125</td>\n",
       "      <td>8194.0</td>\n",
       "      <td>71614.453125</td>\n",
       "    </tr>\n",
       "    <tr>\n",
       "      <th>2021-12-29</th>\n",
       "      <td>72697.851562</td>\n",
       "      <td>71400.000000</td>\n",
       "      <td>71850.000000</td>\n",
       "      <td>72559.046875</td>\n",
       "      <td>9449.0</td>\n",
       "      <td>72555.757812</td>\n",
       "    </tr>\n",
       "    <tr>\n",
       "      <th>2021-12-30</th>\n",
       "      <td>72888.000000</td>\n",
       "      <td>71850.296875</td>\n",
       "      <td>72698.953125</td>\n",
       "      <td>72119.546875</td>\n",
       "      <td>6786.0</td>\n",
       "      <td>72116.273438</td>\n",
       "    </tr>\n",
       "    <tr>\n",
       "      <th>2021-12-31</th>\n",
       "      <td>73699.250000</td>\n",
       "      <td>72011.000000</td>\n",
       "      <td>72011.000000</td>\n",
       "      <td>73338.000000</td>\n",
       "      <td>6473.0</td>\n",
       "      <td>73334.671875</td>\n",
       "    </tr>\n",
       "  </tbody>\n",
       "</table>\n",
       "</div>"
      ],
      "text/plain": [
       "                    High           Low          Open         Close  Volume  \\\n",
       "Date                                                                         \n",
       "2021-12-27  70689.453125  69010.000000  70089.000000  70526.203125  7843.0   \n",
       "2021-12-28  71999.000000  70540.000000  70540.000000  71617.703125  8194.0   \n",
       "2021-12-29  72697.851562  71400.000000  71850.000000  72559.046875  9449.0   \n",
       "2021-12-30  72888.000000  71850.296875  72698.953125  72119.546875  6786.0   \n",
       "2021-12-31  73699.250000  72011.000000  72011.000000  73338.000000  6473.0   \n",
       "\n",
       "               Adj Close  \n",
       "Date                      \n",
       "2021-12-27  70523.007812  \n",
       "2021-12-28  71614.453125  \n",
       "2021-12-29  72555.757812  \n",
       "2021-12-30  72116.273438  \n",
       "2021-12-31  73334.671875  "
      ]
     },
     "execution_count": 3,
     "metadata": {},
     "output_type": "execute_result"
    }
   ],
   "source": [
    "df.tail()"
   ]
  },
  {
   "cell_type": "code",
   "execution_count": 4,
   "id": "9a4e65ae-eee1-4d8c-a2e1-8318ac5e90de",
   "metadata": {},
   "outputs": [
    {
     "data": {
      "text/html": [
       "<div>\n",
       "<style scoped>\n",
       "    .dataframe tbody tr th:only-of-type {\n",
       "        vertical-align: middle;\n",
       "    }\n",
       "\n",
       "    .dataframe tbody tr th {\n",
       "        vertical-align: top;\n",
       "    }\n",
       "\n",
       "    .dataframe thead th {\n",
       "        text-align: right;\n",
       "    }\n",
       "</style>\n",
       "<table border=\"1\" class=\"dataframe\">\n",
       "  <thead>\n",
       "    <tr style=\"text-align: right;\">\n",
       "      <th></th>\n",
       "      <th>Date</th>\n",
       "      <th>High</th>\n",
       "      <th>Low</th>\n",
       "      <th>Open</th>\n",
       "      <th>Close</th>\n",
       "      <th>Volume</th>\n",
       "      <th>Adj Close</th>\n",
       "    </tr>\n",
       "  </thead>\n",
       "  <tbody>\n",
       "    <tr>\n",
       "      <th>0</th>\n",
       "      <td>2010-01-04</td>\n",
       "      <td>6215.000000</td>\n",
       "      <td>6032.0</td>\n",
       "      <td>6081.000000</td>\n",
       "      <td>6142.950195</td>\n",
       "      <td>18735.0</td>\n",
       "      <td>5990.333984</td>\n",
       "    </tr>\n",
       "    <tr>\n",
       "      <th>1</th>\n",
       "      <td>2010-01-05</td>\n",
       "      <td>6269.000000</td>\n",
       "      <td>6150.0</td>\n",
       "      <td>6200.000000</td>\n",
       "      <td>6160.600098</td>\n",
       "      <td>17947.0</td>\n",
       "      <td>6007.544434</td>\n",
       "    </tr>\n",
       "    <tr>\n",
       "      <th>2</th>\n",
       "      <td>2010-01-06</td>\n",
       "      <td>6198.000000</td>\n",
       "      <td>6055.0</td>\n",
       "      <td>6180.000000</td>\n",
       "      <td>6090.399902</td>\n",
       "      <td>10735.0</td>\n",
       "      <td>5939.090332</td>\n",
       "    </tr>\n",
       "    <tr>\n",
       "      <th>3</th>\n",
       "      <td>2010-01-07</td>\n",
       "      <td>6371.000000</td>\n",
       "      <td>6151.0</td>\n",
       "      <td>6249.899902</td>\n",
       "      <td>6216.200195</td>\n",
       "      <td>42206.0</td>\n",
       "      <td>6061.764160</td>\n",
       "    </tr>\n",
       "    <tr>\n",
       "      <th>4</th>\n",
       "      <td>2010-01-08</td>\n",
       "      <td>6294.399902</td>\n",
       "      <td>6150.0</td>\n",
       "      <td>6243.299805</td>\n",
       "      <td>6166.850098</td>\n",
       "      <td>11155.0</td>\n",
       "      <td>6013.641602</td>\n",
       "    </tr>\n",
       "  </tbody>\n",
       "</table>\n",
       "</div>"
      ],
      "text/plain": [
       "        Date         High     Low         Open        Close   Volume  \\\n",
       "0 2010-01-04  6215.000000  6032.0  6081.000000  6142.950195  18735.0   \n",
       "1 2010-01-05  6269.000000  6150.0  6200.000000  6160.600098  17947.0   \n",
       "2 2010-01-06  6198.000000  6055.0  6180.000000  6090.399902  10735.0   \n",
       "3 2010-01-07  6371.000000  6151.0  6249.899902  6216.200195  42206.0   \n",
       "4 2010-01-08  6294.399902  6150.0  6243.299805  6166.850098  11155.0   \n",
       "\n",
       "     Adj Close  \n",
       "0  5990.333984  \n",
       "1  6007.544434  \n",
       "2  5939.090332  \n",
       "3  6061.764160  \n",
       "4  6013.641602  "
      ]
     },
     "execution_count": 4,
     "metadata": {},
     "output_type": "execute_result"
    }
   ],
   "source": [
    "df=df.reset_index()\n",
    "df.head()"
   ]
  },
  {
   "cell_type": "code",
   "execution_count": 5,
   "id": "7c20033f-a763-4346-a931-3870e18afcc1",
   "metadata": {},
   "outputs": [
    {
     "data": {
      "text/html": [
       "<div>\n",
       "<style scoped>\n",
       "    .dataframe tbody tr th:only-of-type {\n",
       "        vertical-align: middle;\n",
       "    }\n",
       "\n",
       "    .dataframe tbody tr th {\n",
       "        vertical-align: top;\n",
       "    }\n",
       "\n",
       "    .dataframe thead th {\n",
       "        text-align: right;\n",
       "    }\n",
       "</style>\n",
       "<table border=\"1\" class=\"dataframe\">\n",
       "  <thead>\n",
       "    <tr style=\"text-align: right;\">\n",
       "      <th></th>\n",
       "      <th>High</th>\n",
       "      <th>Low</th>\n",
       "      <th>Open</th>\n",
       "      <th>Close</th>\n",
       "      <th>Volume</th>\n",
       "    </tr>\n",
       "  </thead>\n",
       "  <tbody>\n",
       "    <tr>\n",
       "      <th>0</th>\n",
       "      <td>6215.000000</td>\n",
       "      <td>6032.0</td>\n",
       "      <td>6081.000000</td>\n",
       "      <td>6142.950195</td>\n",
       "      <td>18735.0</td>\n",
       "    </tr>\n",
       "    <tr>\n",
       "      <th>1</th>\n",
       "      <td>6269.000000</td>\n",
       "      <td>6150.0</td>\n",
       "      <td>6200.000000</td>\n",
       "      <td>6160.600098</td>\n",
       "      <td>17947.0</td>\n",
       "    </tr>\n",
       "    <tr>\n",
       "      <th>2</th>\n",
       "      <td>6198.000000</td>\n",
       "      <td>6055.0</td>\n",
       "      <td>6180.000000</td>\n",
       "      <td>6090.399902</td>\n",
       "      <td>10735.0</td>\n",
       "    </tr>\n",
       "    <tr>\n",
       "      <th>3</th>\n",
       "      <td>6371.000000</td>\n",
       "      <td>6151.0</td>\n",
       "      <td>6249.899902</td>\n",
       "      <td>6216.200195</td>\n",
       "      <td>42206.0</td>\n",
       "    </tr>\n",
       "    <tr>\n",
       "      <th>4</th>\n",
       "      <td>6294.399902</td>\n",
       "      <td>6150.0</td>\n",
       "      <td>6243.299805</td>\n",
       "      <td>6166.850098</td>\n",
       "      <td>11155.0</td>\n",
       "    </tr>\n",
       "  </tbody>\n",
       "</table>\n",
       "</div>"
      ],
      "text/plain": [
       "          High     Low         Open        Close   Volume\n",
       "0  6215.000000  6032.0  6081.000000  6142.950195  18735.0\n",
       "1  6269.000000  6150.0  6200.000000  6160.600098  17947.0\n",
       "2  6198.000000  6055.0  6180.000000  6090.399902  10735.0\n",
       "3  6371.000000  6151.0  6249.899902  6216.200195  42206.0\n",
       "4  6294.399902  6150.0  6243.299805  6166.850098  11155.0"
      ]
     },
     "execution_count": 5,
     "metadata": {},
     "output_type": "execute_result"
    }
   ],
   "source": [
    "df=df.drop(['Date','Adj Close'],axis=1)\n",
    "df.head()"
   ]
  },
  {
   "cell_type": "code",
   "execution_count": 6,
   "id": "4073296a-384b-46be-8d46-7106e4a87f22",
   "metadata": {},
   "outputs": [
    {
     "data": {
      "text/plain": [
       "[<matplotlib.lines.Line2D at 0x1f7c20863a0>]"
      ]
     },
     "execution_count": 6,
     "metadata": {},
     "output_type": "execute_result"
    },
    {
     "data": {
      "image/png": "[encoded data removed]",
      "text/plain": [
       "<Figure size 432x288 with 1 Axes>"
      ]
     },
     "metadata": {
      "needs_background": "light"
     },
     "output_type": "display_data"
    }
   ],
   "source": [
    "plt.plot(df.Close)"
   ]
  },
  {
   "cell_type": "code",
   "execution_count": 7,
   "id": "bf5e1a6a-0cfe-4ee1-b661-fa406791fdb5",
   "metadata": {},
   "outputs": [
    {
     "data": {
      "text/plain": [
       "[<matplotlib.lines.Line2D at 0x1f7c20ce700>]"
      ]
     },
     "execution_count": 7,
     "metadata": {},
     "output_type": "execute_result"
    },
    {
     "data": {
      "image/png": "[encoded data removed]",
      "text/plain": [
       "<Figure size 864x432 with 1 Axes>"
      ]
     },
     "metadata": {
      "needs_background": "light"
     },
     "output_type": "display_data"
    }
   ],
   "source": [
    "ma100=df.Close.rolling(100).mean()\n",
    "ma100\n",
    "plt.figure(figsize=(12,6))\n",
    "plt.plot(df.Close)\n",
    "plt.plot(ma100,'r')"
   ]
  },
  {
   "cell_type": "code",
   "execution_count": 8,
   "id": "9ed70b1e-196d-4b45-a658-fcb9aa04e86a",
   "metadata": {},
   "outputs": [
    {
     "data": {
      "text/plain": [
       "[<matplotlib.lines.Line2D at 0x1f7c213ec70>]"
      ]
     },
     "execution_count": 8,
     "metadata": {},
     "output_type": "execute_result"
    },
    {
     "data": {
      "image/png": "[encoded data removed]",
      "text/plain": [
       "<Figure size 864x432 with 1 Axes>"
      ]
     },
     "metadata": {
      "needs_background": "light"
     },
     "output_type": "display_data"
    }
   ],
   "source": [
    "ma200=df.Close.rolling(200).mean()\n",
    "ma200\n",
    "plt.figure(figsize=(12,6))\n",
    "plt.plot(df.Close)\n",
    "plt.plot(ma100,'r')\n",
    "plt.plot(ma200,'g')"
   ]
  },
  {
   "cell_type": "code",
   "execution_count": 9,
   "id": "30011d84-70ee-41b6-b52a-c5745f3aa898",
   "metadata": {},
   "outputs": [
    {
     "data": {
      "text/plain": [
       "(2961, 5)"
      ]
     },
     "execution_count": 9,
     "metadata": {},
     "output_type": "execute_result"
    }
   ],
   "source": [
    "df.shape"
   ]
  },
  {
   "cell_type": "code",
   "execution_count": 10,
   "id": "268fa5fb-43de-4883-9db3-e3f58666ed71",
   "metadata": {},
   "outputs": [
    {
     "name": "stdout",
     "output_type": "stream",
     "text": [
      "(2072, 1)\n",
      "(889, 1)\n"
     ]
    }
   ],
   "source": [
    "#Spliting Data Into And Testing\n",
    "\n",
    "data_train = pd.DataFrame(df['Close'][ 0:int(len(df)*0.70) ])\n",
    "data_test = pd.DataFrame(df['Close'][int(len(df)*0.70) : int(len(df))])\n",
    "\n",
    "print(data_train.shape)\n",
    "print(data_test.shape)"
   ]
  },
  {
   "cell_type": "code",
   "execution_count": 11,
   "id": "f0adac5f-bb3e-4c29-86e0-898fbf00f561",
   "metadata": {},
   "outputs": [
    {
     "data": {
      "text/html": [
       "<div>\n",
       "<style scoped>\n",
       "    .dataframe tbody tr th:only-of-type {\n",
       "        vertical-align: middle;\n",
       "    }\n",
       "\n",
       "    .dataframe tbody tr th {\n",
       "        vertical-align: top;\n",
       "    }\n",
       "\n",
       "    .dataframe thead th {\n",
       "        text-align: right;\n",
       "    }\n",
       "</style>\n",
       "<table border=\"1\" class=\"dataframe\">\n",
       "  <thead>\n",
       "    <tr style=\"text-align: right;\">\n",
       "      <th></th>\n",
       "      <th>Close</th>\n",
       "    </tr>\n",
       "  </thead>\n",
       "  <tbody>\n",
       "    <tr>\n",
       "      <th>0</th>\n",
       "      <td>6142.950195</td>\n",
       "    </tr>\n",
       "    <tr>\n",
       "      <th>1</th>\n",
       "      <td>6160.600098</td>\n",
       "    </tr>\n",
       "    <tr>\n",
       "      <th>2</th>\n",
       "      <td>6090.399902</td>\n",
       "    </tr>\n",
       "    <tr>\n",
       "      <th>3</th>\n",
       "      <td>6216.200195</td>\n",
       "    </tr>\n",
       "    <tr>\n",
       "      <th>4</th>\n",
       "      <td>6166.850098</td>\n",
       "    </tr>\n",
       "  </tbody>\n",
       "</table>\n",
       "</div>"
      ],
      "text/plain": [
       "         Close\n",
       "0  6142.950195\n",
       "1  6160.600098\n",
       "2  6090.399902\n",
       "3  6216.200195\n",
       "4  6166.850098"
      ]
     },
     "execution_count": 11,
     "metadata": {},
     "output_type": "execute_result"
    }
   ],
   "source": [
    "data_train.head()"
   ]
  },
  {
   "cell_type": "code",
   "execution_count": 12,
   "id": "38f8a616-1372-4aaf-9b97-bdb748edda78",
   "metadata": {},
   "outputs": [
    {
     "data": {
      "text/html": [
       "<div>\n",
       "<style scoped>\n",
       "    .dataframe tbody tr th:only-of-type {\n",
       "        vertical-align: middle;\n",
       "    }\n",
       "\n",
       "    .dataframe tbody tr th {\n",
       "        vertical-align: top;\n",
       "    }\n",
       "\n",
       "    .dataframe thead th {\n",
       "        text-align: right;\n",
       "    }\n",
       "</style>\n",
       "<table border=\"1\" class=\"dataframe\">\n",
       "  <thead>\n",
       "    <tr style=\"text-align: right;\">\n",
       "      <th></th>\n",
       "      <th>Close</th>\n",
       "    </tr>\n",
       "  </thead>\n",
       "  <tbody>\n",
       "    <tr>\n",
       "      <th>2072</th>\n",
       "      <td>76062.351562</td>\n",
       "    </tr>\n",
       "    <tr>\n",
       "      <th>2073</th>\n",
       "      <td>76392.250000</td>\n",
       "    </tr>\n",
       "    <tr>\n",
       "      <th>2074</th>\n",
       "      <td>77087.601562</td>\n",
       "    </tr>\n",
       "    <tr>\n",
       "      <th>2075</th>\n",
       "      <td>75734.046875</td>\n",
       "    </tr>\n",
       "    <tr>\n",
       "      <th>2076</th>\n",
       "      <td>74848.898438</td>\n",
       "    </tr>\n",
       "  </tbody>\n",
       "</table>\n",
       "</div>"
      ],
      "text/plain": [
       "             Close\n",
       "2072  76062.351562\n",
       "2073  76392.250000\n",
       "2074  77087.601562\n",
       "2075  75734.046875\n",
       "2076  74848.898438"
      ]
     },
     "execution_count": 12,
     "metadata": {},
     "output_type": "execute_result"
    }
   ],
   "source": [
    "data_test.head()"
   ]
  },
  {
   "cell_type": "code",
   "execution_count": null,
   "id": "1db6474f-4978-4f1a-9651-16b09a601737",
   "metadata": {},
   "outputs": [],
   "source": [
    "from sklearn.preprocessing import MinMaxScaler\n",
    "scal=MinMaxScaler(feature_range=(0,1))"
   ]
  },
  {
   "cell_type": "code",
   "execution_count": null,
   "id": "749bb670-ed1e-4fa1-93fe-1ed12972a82a",
   "metadata": {},
   "outputs": [
    {
     "data": {
      "text/plain": [
       "(2072, 1)"
      ]
     },
     "execution_count": 14,
     "metadata": {},
     "output_type": "execute_result"
    }
   ],
   "source": [
    "data_train_arr=scal.fit_transform(data_train)\n",
    "data_train_arr\n",
    "data_train_arr.shape"
   ]
  },
  {
   "cell_type": "code",
   "execution_count": null,
   "id": "f2d2aef7-9c12-4e9d-928f-690aee943192",
   "metadata": {},
   "outputs": [],
   "source": [
    "x_train=[]\n",
    "y_train=[]\n",
    "\n",
    "for i in range(100, data_train_arr.shape[0]):\n",
    "    x_train.append(data_train_arr[i-100: i])\n",
    "    y_train.append(data_train_arr[i,0])\n",
    "    \n",
    "x_train,y_train=np.array(x_train),np.array(y_train)"
   ]
  },
  {
   "cell_type": "code",
   "execution_count": null,
   "id": "ee34f627-d18b-472b-8bc7-4058f5bd48d2",
   "metadata": {},
   "outputs": [],
   "source": [
    "#ML MOdel\n",
    "from keras.layers import Dense,Dropout,LSTM,Embedding\n",
    "from keras.models import Sequential"
   ]
  },
  {
   "cell_type": "code",
   "execution_count": 43,
   "id": "9e4bed41-d870-4bd1-88b3-56095b10ab88",
   "metadata": {},
   "outputs": [],
   "source": [
    "model=Sequential()\n",
    "\n",
    "model.add(LSTM(units=40,activation='relu',return_sequences=True,input_shape=(x_train.shape[1],1)))\n",
    "model.add(Dropout(0.2))\n",
    "\n",
    "model.add(LSTM(units=80,activation='relu',return_sequences=True))\n",
    "model.add(Dropout(0.3))\n",
    "\n",
    "model.add(LSTM(units=120,activation='relu',return_sequences=True))\n",
    "model.add(Dropout(0.4))\n",
    "\n",
    "model.add(LSTM(units=160,activation='relu',return_sequences=True))\n",
    "model.add(Dropout(0.4))\n",
    "\n",
    "model.add(LSTM(units=200,activation='relu',return_sequences=True))\n",
    "model.add(Dropout(0.6))\n",
    "\n",
    "model.add(LSTM(units=240,activation='relu',return_sequences=True))\n",
    "model.add(Dropout(0.7))\n",
    "\n",
    "model.add(LSTM(units=280,activation='relu'))\n",
    "model.add(Dropout(0.8))\n",
    "\n",
    "model.add(Dense(units=25))\n",
    "model.add(Dense(units =1))"
   ]
  },
  {
   "cell_type": "code",
   "execution_count": 44,
   "id": "a467de6e-e4d2-4584-ad3b-9a24cc2d9009",
   "metadata": {
    "scrolled": true,
    "tags": []
   },
   "outputs": [
    {
     "name": "stdout",
     "output_type": "stream",
     "text": [
      "Model: \"sequential_2\"\n",
      "_________________________________________________________________\n",
      " Layer (type)                Output Shape              Param #   \n",
      "=================================================================\n",
      " lstm_14 (LSTM)              (None, 100, 40)           6720      \n",
      "                                                                 \n",
      " dropout (Dropout)           (None, 100, 40)           0         \n",
      "                                                                 \n",
      " lstm_15 (LSTM)              (None, 100, 80)           38720     \n",
      "                                                                 \n",
      " dropout_1 (Dropout)         (None, 100, 80)           0         \n",
      "                                                                 \n",
      " lstm_16 (LSTM)              (None, 100, 120)          96480     \n",
      "                                                                 \n",
      " dropout_2 (Dropout)         (None, 100, 120)          0         \n",
      "                                                                 \n",
      " lstm_17 (LSTM)              (None, 100, 160)          179840    \n",
      "                                                                 \n",
      " dropout_3 (Dropout)         (None, 100, 160)          0         \n",
      "                                                                 \n",
      " lstm_18 (LSTM)              (None, 100, 200)          288800    \n",
      "                                                                 \n",
      " dropout_4 (Dropout)         (None, 100, 200)          0         \n",
      "                                                                 \n",
      " lstm_19 (LSTM)              (None, 100, 240)          423360    \n",
      "                                                                 \n",
      " dropout_5 (Dropout)         (None, 100, 240)          0         \n",
      "                                                                 \n",
      " lstm_20 (LSTM)              (None, 280)               583520    \n",
      "                                                                 \n",
      " dropout_6 (Dropout)         (None, 280)               0         \n",
      "                                                                 \n",
      " dense_4 (Dense)             (None, 25)                7025      \n",
      "                                                                 \n",
      " dense_5 (Dense)             (None, 1)                 26        \n",
      "                                                                 \n",
      "=================================================================\n",
      "Total params: 1,624,491\n",
      "Trainable params: 1,624,491\n",
      "Non-trainable params: 0\n",
      "_________________________________________________________________\n"
     ]
    }
   ],
   "source": [
    "model.summary()"
   ]
  },
  {
   "cell_type": "code",
   "execution_count": 45,
   "id": "b933985c-c563-4bcc-ac60-72f6d6bc14d7",
   "metadata": {
    "scrolled": true,
    "tags": []
   },
   "outputs": [
    {
     "name": "stdout",
     "output_type": "stream",
     "text": [
      "Epoch 1/5\n",
      "99/99 [==============================] - 67s 604ms/step - loss: 0.0623 - accuracy: 0.0010\n",
      "Epoch 2/5\n",
      "99/99 [==============================] - 60s 603ms/step - loss: 0.0164 - accuracy: 0.0010\n",
      "Epoch 3/5\n",
      "99/99 [==============================] - 65s 652ms/step - loss: 0.0105 - accuracy: 0.0010\n",
      "Epoch 4/5\n",
      "99/99 [==============================] - 66s 664ms/step - loss: 0.0108 - accuracy: 0.0010\n",
      "Epoch 5/5\n",
      "99/99 [==============================] - 78s 789ms/step - loss: 0.0089 - accuracy: 0.0010\n"
     ]
    },
    {
     "data": {
      "text/plain": [
       "<keras.callbacks.History at 0x1f7eb19d5b0>"
      ]
     },
     "execution_count": 45,
     "metadata": {},
     "output_type": "execute_result"
    }
   ],
   "source": [
    "model.compile(optimizer='adam',loss='mean_squared_error',metrics=['accuracy'])\n",
    "model.fit(x_train,y_train,epochs=5, batch_size=20)"
   ]
  },
  {
   "cell_type": "code",
   "execution_count": 46,
   "id": "8e53610e-6f60-4495-afb1-f8177f432600",
   "metadata": {},
   "outputs": [],
   "source": [
    "model.save('keras_model.h5')"
   ]
  },
  {
   "cell_type": "code",
   "execution_count": 24,
   "id": "f38f0116-b682-4822-968d-a33486556bed",
   "metadata": {
    "scrolled": true,
    "tags": []
   },
   "outputs": [
    {
     "data": {
      "text/html": [
       "<div>\n",
       "<style scoped>\n",
       "    .dataframe tbody tr th:only-of-type {\n",
       "        vertical-align: middle;\n",
       "    }\n",
       "\n",
       "    .dataframe tbody tr th {\n",
       "        vertical-align: top;\n",
       "    }\n",
       "\n",
       "    .dataframe thead th {\n",
       "        text-align: right;\n",
       "    }\n",
       "</style>\n",
       "<table border=\"1\" class=\"dataframe\">\n",
       "  <thead>\n",
       "    <tr style=\"text-align: right;\">\n",
       "      <th></th>\n",
       "      <th>Close</th>\n",
       "    </tr>\n",
       "  </thead>\n",
       "  <tbody>\n",
       "    <tr>\n",
       "      <th>2072</th>\n",
       "      <td>76062.351562</td>\n",
       "    </tr>\n",
       "    <tr>\n",
       "      <th>2073</th>\n",
       "      <td>76392.250000</td>\n",
       "    </tr>\n",
       "    <tr>\n",
       "      <th>2074</th>\n",
       "      <td>77087.601562</td>\n",
       "    </tr>\n",
       "    <tr>\n",
       "      <th>2075</th>\n",
       "      <td>75734.046875</td>\n",
       "    </tr>\n",
       "    <tr>\n",
       "      <th>2076</th>\n",
       "      <td>74848.898438</td>\n",
       "    </tr>\n",
       "  </tbody>\n",
       "</table>\n",
       "</div>"
      ],
      "text/plain": [
       "             Close\n",
       "2072  76062.351562\n",
       "2073  76392.250000\n",
       "2074  77087.601562\n",
       "2075  75734.046875\n",
       "2076  74848.898438"
      ]
     },
     "execution_count": 24,
     "metadata": {},
     "output_type": "execute_result"
    }
   ],
   "source": [
    "data_test.head()"
   ]
  },
  {
   "cell_type": "code",
   "execution_count": 25,
   "id": "b265f846-85e1-4a84-b511-68aa460d4871",
   "metadata": {
    "scrolled": true,
    "tags": []
   },
   "outputs": [
    {
     "data": {
      "text/html": [
       "<div>\n",
       "<style scoped>\n",
       "    .dataframe tbody tr th:only-of-type {\n",
       "        vertical-align: middle;\n",
       "    }\n",
       "\n",
       "    .dataframe tbody tr th {\n",
       "        vertical-align: top;\n",
       "    }\n",
       "\n",
       "    .dataframe thead th {\n",
       "        text-align: right;\n",
       "    }\n",
       "</style>\n",
       "<table border=\"1\" class=\"dataframe\">\n",
       "  <thead>\n",
       "    <tr style=\"text-align: right;\">\n",
       "      <th></th>\n",
       "      <th>Close</th>\n",
       "    </tr>\n",
       "  </thead>\n",
       "  <tbody>\n",
       "    <tr>\n",
       "      <th>1972</th>\n",
       "      <td>72357.046875</td>\n",
       "    </tr>\n",
       "    <tr>\n",
       "      <th>1973</th>\n",
       "      <td>72402.851562</td>\n",
       "    </tr>\n",
       "    <tr>\n",
       "      <th>1974</th>\n",
       "      <td>71246.101562</td>\n",
       "    </tr>\n",
       "    <tr>\n",
       "      <th>1975</th>\n",
       "      <td>71173.351562</td>\n",
       "    </tr>\n",
       "    <tr>\n",
       "      <th>1976</th>\n",
       "      <td>71219.851562</td>\n",
       "    </tr>\n",
       "    <tr>\n",
       "      <th>...</th>\n",
       "      <td>...</td>\n",
       "    </tr>\n",
       "    <tr>\n",
       "      <th>2067</th>\n",
       "      <td>73102.101562</td>\n",
       "    </tr>\n",
       "    <tr>\n",
       "      <th>2068</th>\n",
       "      <td>73873.453125</td>\n",
       "    </tr>\n",
       "    <tr>\n",
       "      <th>2069</th>\n",
       "      <td>74140.500000</td>\n",
       "    </tr>\n",
       "    <tr>\n",
       "      <th>2070</th>\n",
       "      <td>73600.703125</td>\n",
       "    </tr>\n",
       "    <tr>\n",
       "      <th>2071</th>\n",
       "      <td>73866.398438</td>\n",
       "    </tr>\n",
       "  </tbody>\n",
       "</table>\n",
       "<p>100 rows × 1 columns</p>\n",
       "</div>"
      ],
      "text/plain": [
       "             Close\n",
       "1972  72357.046875\n",
       "1973  72402.851562\n",
       "1974  71246.101562\n",
       "1975  71173.351562\n",
       "1976  71219.851562\n",
       "...            ...\n",
       "2067  73102.101562\n",
       "2068  73873.453125\n",
       "2069  74140.500000\n",
       "2070  73600.703125\n",
       "2071  73866.398438\n",
       "\n",
       "[100 rows x 1 columns]"
      ]
     },
     "execution_count": 25,
     "metadata": {},
     "output_type": "execute_result"
    }
   ],
   "source": [
    "data_train.tail(100)"
   ]
  },
  {
   "cell_type": "code",
   "execution_count": 26,
   "id": "266b9fce-a64c-48dd-a032-6c1b00bb5fb2",
   "metadata": {},
   "outputs": [],
   "source": [
    "past_100_days=data_train.tail(100)"
   ]
  },
  {
   "cell_type": "code",
   "execution_count": 27,
   "id": "e4feb5ff-e0db-48ad-8c24-d3da61027000",
   "metadata": {},
   "outputs": [],
   "source": [
    " final_df=past_100_days.append(data_test,ignore_index=True)"
   ]
  },
  {
   "cell_type": "code",
   "execution_count": 28,
   "id": "62182957-4798-46d9-b06c-928ee548dd04",
   "metadata": {},
   "outputs": [
    {
     "data": {
      "text/html": [
       "<div>\n",
       "<style scoped>\n",
       "    .dataframe tbody tr th:only-of-type {\n",
       "        vertical-align: middle;\n",
       "    }\n",
       "\n",
       "    .dataframe tbody tr th {\n",
       "        vertical-align: top;\n",
       "    }\n",
       "\n",
       "    .dataframe thead th {\n",
       "        text-align: right;\n",
       "    }\n",
       "</style>\n",
       "<table border=\"1\" class=\"dataframe\">\n",
       "  <thead>\n",
       "    <tr style=\"text-align: right;\">\n",
       "      <th></th>\n",
       "      <th>Close</th>\n",
       "    </tr>\n",
       "  </thead>\n",
       "  <tbody>\n",
       "    <tr>\n",
       "      <th>0</th>\n",
       "      <td>72357.046875</td>\n",
       "    </tr>\n",
       "    <tr>\n",
       "      <th>1</th>\n",
       "      <td>72402.851562</td>\n",
       "    </tr>\n",
       "    <tr>\n",
       "      <th>2</th>\n",
       "      <td>71246.101562</td>\n",
       "    </tr>\n",
       "    <tr>\n",
       "      <th>3</th>\n",
       "      <td>71173.351562</td>\n",
       "    </tr>\n",
       "    <tr>\n",
       "      <th>4</th>\n",
       "      <td>71219.851562</td>\n",
       "    </tr>\n",
       "  </tbody>\n",
       "</table>\n",
       "</div>"
      ],
      "text/plain": [
       "          Close\n",
       "0  72357.046875\n",
       "1  72402.851562\n",
       "2  71246.101562\n",
       "3  71173.351562\n",
       "4  71219.851562"
      ]
     },
     "execution_count": 28,
     "metadata": {},
     "output_type": "execute_result"
    }
   ],
   "source": [
    "final_df.head()"
   ]
  },
  {
   "cell_type": "code",
   "execution_count": 29,
   "id": "336310f4-e30e-495f-8cb4-120231b17cb2",
   "metadata": {},
   "outputs": [],
   "source": [
    "input_data=scal.fit_transform(final_df)\n",
    "# input_data"
   ]
  },
  {
   "cell_type": "code",
   "execution_count": 30,
   "id": "e88aebb8-4786-4b17-855f-0ba223ff63a8",
   "metadata": {},
   "outputs": [
    {
     "data": {
      "text/plain": [
       "(989, 1)"
      ]
     },
     "execution_count": 30,
     "metadata": {},
     "output_type": "execute_result"
    }
   ],
   "source": [
    "input_data.shape"
   ]
  },
  {
   "cell_type": "code",
   "execution_count": 31,
   "id": "0502c0ba-4c57-4bb8-87a8-263a075db7e4",
   "metadata": {},
   "outputs": [],
   "source": [
    "x_test=[]\n",
    "y_test=[]\n",
    "\n",
    "for i in range(100,input_data.shape[0]):\n",
    "    x_test.append(input_data[i-100:i])\n",
    "    y_test.append(input_data[i,0])"
   ]
  },
  {
   "cell_type": "code",
   "execution_count": 32,
   "id": "38be3eeb-def6-4a81-aec9-b662c7b1291c",
   "metadata": {},
   "outputs": [
    {
     "name": "stdout",
     "output_type": "stream",
     "text": [
      "(889, 100, 1)\n",
      "(889,)\n"
     ]
    }
   ],
   "source": [
    "x_test,y_test=np.array(x_test),np.array(y_test)\n",
    "print(x_test.shape)\n",
    "print(y_test.shape)"
   ]
  },
  {
   "cell_type": "code",
   "execution_count": 33,
   "id": "54e7631d-efc6-4517-a01f-b5c49e591ef9",
   "metadata": {},
   "outputs": [],
   "source": [
    "#Making Predication\n",
    "\n",
    "y_pred=model.predict(x_test)"
   ]
  },
  {
   "cell_type": "code",
   "execution_count": 34,
   "id": "2129334f-6953-48e8-a6f3-78d765f8be67",
   "metadata": {},
   "outputs": [
    {
     "data": {
      "text/plain": [
       "(889, 1)"
      ]
     },
     "execution_count": 34,
     "metadata": {},
     "output_type": "execute_result"
    }
   ],
   "source": [
    "y_pred.shape"
   ]
  },
  {
   "cell_type": "code",
   "execution_count": 35,
   "id": "cfdc92ba-a8fc-45d0-b1c4-8a3d989d5ce6",
   "metadata": {},
   "outputs": [],
   "source": [
    "# y_test"
   ]
  },
  {
   "cell_type": "code",
   "execution_count": 36,
   "id": "2ce663ad-780e-47cc-bdf3-b06f5eec3a12",
   "metadata": {},
   "outputs": [],
   "source": [
    "# y_pred"
   ]
  },
  {
   "cell_type": "code",
   "execution_count": 37,
   "id": "478d70fc-a7b9-46b2-851b-1d0b56efec16",
   "metadata": {},
   "outputs": [],
   "source": [
    "sc=scal.scale_"
   ]
  },
  {
   "cell_type": "code",
   "execution_count": 38,
   "id": "7153ca60-a9ef-40e9-b161-b8d3de726d69",
   "metadata": {},
   "outputs": [],
   "source": [
    "scal_fac=1/sc\n",
    "y_pred=y_pred*scal_fac\n",
    "y_test=y_test*scal_fac"
   ]
  },
  {
   "cell_type": "code",
   "execution_count": 39,
   "id": "c87cd86c-23f7-490e-b44a-2efa82a9b06f",
   "metadata": {},
   "outputs": [
    {
     "data": {
      "image/png": "[encoded data removed]",
      "text/plain": [
       "<Figure size 864x432 with 1 Axes>"
      ]
     },
     "metadata": {
      "needs_background": "light"
     },
     "output_type": "display_data"
    }
   ],
   "source": [
    "plt.figure(figsize=(12,6))\n",
    "plt.plot(y_test,'b',label='Original Price')\n",
    "plt.plot(y_pred,'r',label='Predicated Price')\n",
    "plt.xlabel('Time')\n",
    "plt.ylabel('Price')\n",
    "plt.legend()\n",
    "plt.show()"
   ]
  },
  {
   "cell_type": "code",
   "execution_count": 41,
   "id": "9b4f7726-3927-4e05-a5be-73f25ef9057d",
   "metadata": {
    "scrolled": true,
    "tags": []
   },
   "outputs": [
    {
     "name": "stdout",
     "output_type": "stream",
     "text": [
      "28/28 [==============================] - 0s 6ms/step - loss: 381135520.0000 - accuracy: 0.0011\n",
      "Score is:  [381135520.0, 0.001124859438277781, 381135520.0, 0.001124859438277781, 381135520.0, 0.001124859438277781, 381135520.0, 0.001124859438277781, 381135520.0, 0.001124859438277781, 381135520.0, 0.001124859438277781, 381135520.0, 0.001124859438277781, 381135520.0, 0.001124859438277781, 381135520.0, 0.001124859438277781, 381135520.0, 0.001124859438277781, 381135520.0, 0.001124859438277781, 381135520.0, 0.001124859438277781, 381135520.0, 0.001124859438277781, 381135520.0, 0.001124859438277781, 381135520.0, 0.001124859438277781, 381135520.0, 0.001124859438277781, 381135520.0, 0.001124859438277781, 381135520.0, 0.001124859438277781, 381135520.0, 0.001124859438277781, 381135520.0, 0.001124859438277781, 381135520.0, 0.001124859438277781, 381135520.0, 0.001124859438277781, 381135520.0, 0.001124859438277781, 381135520.0, 0.001124859438277781, 381135520.0, 0.001124859438277781, 381135520.0, 0.001124859438277781, 381135520.0, 0.001124859438277781, 381135520.0, 0.001124859438277781, 381135520.0, 0.001124859438277781, 381135520.0, 0.001124859438277781, 381135520.0, 0.001124859438277781, 381135520.0, 0.001124859438277781, 381135520.0, 0.001124859438277781, 381135520.0, 0.001124859438277781, 381135520.0, 0.001124859438277781, 381135520.0, 0.001124859438277781, 381135520.0, 0.001124859438277781, 381135520.0, 0.001124859438277781, 381135520.0, 0.001124859438277781, 381135520.0, 0.001124859438277781, 381135520.0, 0.001124859438277781, 381135520.0, 0.001124859438277781, 381135520.0, 0.001124859438277781, 381135520.0, 0.001124859438277781, 381135520.0, 0.001124859438277781, 381135520.0, 0.001124859438277781, 381135520.0, 0.001124859438277781, 381135520.0, 0.001124859438277781, 381135520.0, 0.001124859438277781, 381135520.0, 0.001124859438277781, 381135520.0, 0.001124859438277781, 381135520.0, 0.001124859438277781, 381135520.0, 0.001124859438277781, 381135520.0, 0.001124859438277781, 381135520.0, 0.001124859438277781, 381135520.0, 0.001124859438277781, 381135520.0, 0.001124859438277781, 381135520.0, 0.001124859438277781, 381135520.0, 0.001124859438277781, 381135520.0, 0.001124859438277781, 381135520.0, 0.001124859438277781, 381135520.0, 0.001124859438277781, 381135520.0, 0.001124859438277781, 381135520.0, 0.001124859438277781, 381135520.0, 0.001124859438277781, 381135520.0, 0.001124859438277781, 381135520.0, 0.001124859438277781, 381135520.0, 0.001124859438277781, 381135520.0, 0.001124859438277781, 381135520.0, 0.001124859438277781, 381135520.0, 0.001124859438277781, 381135520.0, 0.001124859438277781, 381135520.0, 0.001124859438277781, 381135520.0, 0.001124859438277781, 381135520.0, 0.001124859438277781, 381135520.0, 0.001124859438277781, 381135520.0, 0.001124859438277781, 381135520.0, 0.001124859438277781, 381135520.0, 0.001124859438277781, 381135520.0, 0.001124859438277781]\n"
     ]
    }
   ],
   "source": [
    "#st.subheader('Accuracy Result For Given Model: ')\n",
    "# model.fit(x_test,y_test,epochs=100, batch_size=1)\n",
    "# accurecy=model.accuracy_score(y_test,x_test)\n",
    "#print(\"X test=\",x_test)\n",
    "#print(\"Y test=\",y_test)\n",
    "accurecy=model.evaluate(y_pred, y_test)\n",
    "print(\"Score is: \",(accurecy)*80),\n",
    "#st.write(\"Accuracy: \",round(accurecy,2))"
   ]
  },
  {
   "cell_type": "code",
   "execution_count": null,
   "id": "59cfba85-44b0-4d48-9106-143e5cbcf0d9",
   "metadata": {},
   "outputs": [],
   "source": []
  }
 ],
 "metadata": {
  "kernelspec": {
   "display_name": "Python 3 (ipykernel)",
   "language": "python",
   "name": "python3"
  },
  "language_info": {
   "codemirror_mode": {
    "name": "ipython",
    "version": 3
   },
   "file_extension": ".py",
   "mimetype": "text/x-python",
   "name": "python",
   "nbconvert_exporter": "python",
   "pygments_lexer": "ipython3",
   "version": "3.9.7"
  }
 },
 "nbformat": 4,
 "nbformat_minor": 5
}
